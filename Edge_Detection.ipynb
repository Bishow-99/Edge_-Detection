{
 "cells": [
  {
   "cell_type": "markdown",
   "id": "81f75cf0",
   "metadata": {},
   "source": [
    "<h1 style='color:black;font-size:30px;text-align:center'>Introduction to Edge Detection</h1>"
   ]
  },
  {
   "cell_type": "markdown",
   "id": "eaae0725",
   "metadata": {},
   "source": [
    "Edges are the most important features of the images which can be formed from the outlines of the object. An edge in an image is a significant local change in the image intensity, usually associated with a discontinuity in either the image intensity or the first derivative of the image intensity. Whereas, edge detection is the process of detecting the edge from the  local changes in the image when there is a sudden changes in the sharpness or intensity of the images. Edge detection is the important step in image analyzing and processing, computer vision, human vision, object detection and pattern recognition. In the process of edge detection, the image is inputted first and converts that image into gray scale image. And then apply the edge detector to detect and extract the edges present within an image as output.\n",
    "\n",
    "There are so many techniques to detect the edges in the image, however remember that sometimes edge detection require some image preprocessing task like blurring,removing noise in order to get more edges in the images. "
   ]
  },
  {
   "cell_type": "markdown",
   "id": "c49acb37",
   "metadata": {},
   "source": [
    "<h1 style='color:black;font-size:30px;text-align:center'>Edge Detection Techniques</h1>"
   ]
  },
  {
   "cell_type": "markdown",
   "id": "e565b6ff",
   "metadata": {},
   "source": [
    "1.Roberts edge detection\n",
    "\n",
    "2.Prewitt edge detection\n",
    "\n",
    "3.Sobel edge detection\n",
    "\n",
    "4.Laplacian edge detection\n",
    "\n",
    "5.Canny edge detection"
   ]
  },
  {
   "cell_type": "markdown",
   "id": "ca2eeb2e",
   "metadata": {},
   "source": [
    "<h1 style='color:black;font-size:30px;text-align:center'>Application of Edge Detection</h1>"
   ]
  },
  {
   "cell_type": "markdown",
   "id": "559a8331",
   "metadata": {},
   "source": [
    "<b> 1. Fingerprint recognition:</b> When recognizing fingerprints, it’s useful to preprocess the image by performing edge detection. In this case, the “edges” are the contours of the fingerprint, as contrasted with the background on which the fingerprint was made. This helps reduce noise so that the system can focus exclusively on the fingerprint’s shape.\n",
    "\n",
    "<b> 2. Medical imaging:</b> Like fingerprint recognition, medical imaging is another field where computer vision systems can improve performance by eliminating noise and extraneous information and improve heatlhcare with AI. Medical images are susceptible to different types of noise during the data collection process. Applying edge detection makes it easier for computer vision systems (and human physicians) to detect anomalies in medical images.  is the prime example where we can see the edges in the fracture part.\n",
    "\n",
    "\n",
    "<b> 3. Satellite Image:</b> Even satellite are knowing the pattern about the earths or other things with the help of edge detection process. \n",
    "\n",
    "<b> 4. Vehicle detection:</b> Consider one of the most cutting-edge computer vision use cases: self-driving cars. These systems depend on the ability to rapidly and automatically detect other vehicles on the road. This technology can help dramatically reduce the complexity of the images that self-driving cars need to analyze, while still preserving the recognizable shapes of other vehicle.\n"
   ]
  },
  {
   "cell_type": "code",
   "execution_count": null,
   "id": "957aea97",
   "metadata": {},
   "outputs": [],
   "source": []
  }
 ],
 "metadata": {
  "kernelspec": {
   "display_name": "Python 3 (ipykernel)",
   "language": "python",
   "name": "python3"
  },
  "language_info": {
   "codemirror_mode": {
    "name": "ipython",
    "version": 3
   },
   "file_extension": ".py",
   "mimetype": "text/x-python",
   "name": "python",
   "nbconvert_exporter": "python",
   "pygments_lexer": "ipython3",
   "version": "3.8.10"
  }
 },
 "nbformat": 4,
 "nbformat_minor": 5
}
