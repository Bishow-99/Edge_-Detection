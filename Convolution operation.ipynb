{
 "cells": [
  {
   "cell_type": "markdown",
   "id": "372a68e0",
   "metadata": {},
   "source": [
    "Convolution Operation is the process of convolving the filter over the image inorder to detect edges on the image or features."
   ]
  },
  {
   "cell_type": "markdown",
   "id": "dd2c3ccd",
   "metadata": {},
   "source": [
    "Now, Lets find the vertical edge detection of given image \n",
    "\n",
    "Suppose, our image has 6*6=36pixels =[[5,3,2,9,0,3]\n",
    "                                    ,[4,8,9,7,2,6],\n",
    "                                     [13,4,9,10,12,2]\n",
    "                                     [3,5,7,9,8,3],\n",
    "                                     [4,5,6,4,6,8],\n",
    "                                     [2,7,8,7,9,0]]\n",
    "\n",
    "\n",
    "lets find the vertical filter of 3*3 pixels=[[1,0,-1],\n",
    "                                             [1,0,-1,\n",
    "                                             [1,0,-1]]\n",
    "                                             \n",
    "Again, lets use stride=1 for shifting or slding our filter over the image pixels\n",
    "from our image pixels and filter we can find our that our output pixels should be= n-f-1\n",
    "                                                                                 \n",
    " where, n=pixels size of the image which is 6\n",
    "        f=filter size which is 3\n",
    "        ouput=n-f+1\n",
    "              =6-3+1\n",
    "              =4 it means our output will be 4*4 pixels\n",
    "        \n"
   ]
  },
  {
   "cell_type": "markdown",
   "id": "c91c757b",
   "metadata": {},
   "source": [
    "Its time to slide our filter on image pixel"
   ]
  },
  {
   "cell_type": "markdown",
   "id": "f4b0410a",
   "metadata": {},
   "source": [
    "# <img src=\"Written_problems/1.jpg\">"
   ]
  },
  {
   "cell_type": "markdown",
   "id": "10888995",
   "metadata": {},
   "source": [
    "In above figure, I have use filter to detect the edge of the image and got the value of  first index as 2.After that I will move my stride by 1 towards right and find the values and of second steps"
   ]
  },
  {
   "cell_type": "markdown",
   "id": "7b9dd683",
   "metadata": {},
   "source": [
    "# <img src='Written_problems/2.jpg'>"
   ]
  },
  {
   "cell_type": "markdown",
   "id": "7ff0bef7",
   "metadata": {},
   "source": [
    "Again, In second step I find the value of second index by using stride as 1 thus, shifting the filter towards the right side by taking 1 steps. In this way, I am going to find the feature map of 4*4 by moving the stride by 1 sequentially."
   ]
  },
  {
   "cell_type": "markdown",
   "id": "b31bfd63",
   "metadata": {},
   "source": [
    "# <img src=\"Written_problems/3.jpg\">"
   ]
  },
  {
   "cell_type": "markdown",
   "id": "4462464f",
   "metadata": {},
   "source": [
    "<img src=\"Written_problems/4.jpg\">"
   ]
  },
  {
   "cell_type": "markdown",
   "id": "3ea757d4",
   "metadata": {},
   "source": [
    "<img src=\"Written_problems/5.jpg\">"
   ]
  },
  {
   "cell_type": "markdown",
   "id": "7d8fbaa4",
   "metadata": {},
   "source": [
    "<img src=\"Written_problems/6.jpg\">"
   ]
  },
  {
   "cell_type": "code",
   "execution_count": null,
   "id": "5726b010",
   "metadata": {},
   "outputs": [],
   "source": []
  }
 ],
 "metadata": {
  "kernelspec": {
   "display_name": "Python 3 (ipykernel)",
   "language": "python",
   "name": "python3"
  },
  "language_info": {
   "codemirror_mode": {
    "name": "ipython",
    "version": 3
   },
   "file_extension": ".py",
   "mimetype": "text/x-python",
   "name": "python",
   "nbconvert_exporter": "python",
   "pygments_lexer": "ipython3",
   "version": "3.8.10"
  }
 },
 "nbformat": 4,
 "nbformat_minor": 5
}
